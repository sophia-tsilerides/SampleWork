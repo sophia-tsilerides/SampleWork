{
 "cells": [
  {
   "cell_type": "markdown",
   "metadata": {},
   "source": [
    "# Introduction to Data Science\n",
    "## Text Mining "
   ]
  },
  {
   "cell_type": "markdown",
   "metadata": {},
   "source": [
    "Sophia Maria Tsilerides\n",
    "\n",
    "***"
   ]
  },
  {
   "cell_type": "markdown",
   "metadata": {},
   "source": [
    "We will be analyzing a data set of movie ratings from IMDB.com. To begin, let's look at the Naive Bayes classifer to get a better understanding of the algorithms we will be using later. \n",
    "### Naive Bayes"
   ]
  },
  {
   "cell_type": "markdown",
   "metadata": {},
   "source": [
    "The naive Bayes classifier works by calculating the conditional probabilities of each feature occuring within each class and treating them independently. This results in the probability of a certain class occuring given a set of features, or a piece of evidence:\n",
    "\n",
    "$$P(c \\mid E) = \\frac{p(e_1 \\mid c) \\cdot p(e_2 \\mid c) \\cdot \\cdot \\cdot p(e_k \\mid c) \\cdot p(c)}{p(E)}.$$\n",
    "\n",
    "and the conditional probability of each piece of evidence occuring with a given class is given by:\n",
    "\n",
    "$$P(e_i \\mid c) = \\frac{\\text{count}(e_i, c)}{\\text{count}(c)}.$$\n",
    "\n",
    "In the above equation $\\text{count}(e_i, c)$ is the number of documents in a given class that contain feature $e_i$ and $\\text{count}(c)$ is the number of documents that belong to class $c$. \n",
    "\n",
    "The problem with Naivee Bayes is that if a particular attribute value does not occur in the training data set, the results may be misleading. A common variation of the above is to use Laplace (sometimes called +1) smoothing. \n",
    "\n",
    "$$P(e_i \\mid c) = \\frac{\\text{count}(e_i, c) + 1}{\\text{count}(c) + 2}.$$"
   ]
  },
  {
   "cell_type": "markdown",
   "metadata": {},
   "source": [
    "We add a Laplace Estimator to the attributes when calculating probabilities so that any value that occurs zero times will be replaced by a non-zero number. This prevents the possibility of getting 0 or 1 for a probability. To do this, we add a value to the numerator and the denominator for every category. In terms of the bias-variance tradeoff, if the Laplace Estimator is 0 (so we don't have a Laplace estimator) our model is overfitting and there is high variance because for a very small change in the training data there is very different model. If a large value is used as a Laplace Estimator, the influence of observed counts will be lower because estimated probabilities for the same number of observations will be lower. Thus, variance in the model is lower but there is larger bias. \n",
    "\n",
    "A case when using a Laplace estimator can lead to better results is in spam filtering with two classes: \"Ham\" or \"Spam.\" Let's also assume the probability of spam or ham is 50/50. If we get an email that our classifier rates as P(Ham|words in email) = .90 and P(Spam|words in email) = .10 we can say that the email is probably not spam. However, if we get another email that's almost identical to the first but with 1 extra word, the word's count is 0. Thus, we'd get P(Ham|words in email + 1 extra word) = P(Spam|words in email + 1 extra word) = 0. Therefore, despite the first email being strongly classified as Ham, the second email with just a one word difference has a probability of being Ham equal to zero without a Laplace Estimator to smooth out the probabilities.\n"
   ]
  },
  {
   "cell_type": "markdown",
   "metadata": {},
   "source": [
    "### Text classification for sentiment analysis \n",
    "The data we will be looking at consists of the text of a movie review and a target variable which tells us whether the reviewer had a positive feeling towards the movie (equivalent to rating the movie between 7 and 10) or a negative feeling (rating the movie between 1 and 4). Neutral reactions are not included in the data.\n",
    "\n",
    "The first column is the review text; the second is the text label 'P' for positive or 'N' for negative."
   ]
  },
  {
   "cell_type": "code",
   "execution_count": 1,
   "metadata": {},
   "outputs": [
    {
     "data": {
      "text/html": [
       "<div>\n",
       "<style scoped>\n",
       "    .dataframe tbody tr th:only-of-type {\n",
       "        vertical-align: middle;\n",
       "    }\n",
       "\n",
       "    .dataframe tbody tr th {\n",
       "        vertical-align: top;\n",
       "    }\n",
       "\n",
       "    .dataframe thead th {\n",
       "        text-align: right;\n",
       "    }\n",
       "</style>\n",
       "<table border=\"1\" class=\"dataframe\">\n",
       "  <thead>\n",
       "    <tr style=\"text-align: right;\">\n",
       "      <th></th>\n",
       "      <th>Text</th>\n",
       "      <th>Class</th>\n",
       "    </tr>\n",
       "  </thead>\n",
       "  <tbody>\n",
       "    <tr>\n",
       "      <td>0</td>\n",
       "      <td>'One of the first of the best musicals Anchors...</td>\n",
       "      <td>P</td>\n",
       "    </tr>\n",
       "    <tr>\n",
       "      <td>1</td>\n",
       "      <td>'Visually disjointed and full of itself the di...</td>\n",
       "      <td>N</td>\n",
       "    </tr>\n",
       "    <tr>\n",
       "      <td>2</td>\n",
       "      <td>'These type of movies about young teenagers st...</td>\n",
       "      <td>P</td>\n",
       "    </tr>\n",
       "    <tr>\n",
       "      <td>3</td>\n",
       "      <td>'I would rather of had my eyes gouged out with...</td>\n",
       "      <td>N</td>\n",
       "    </tr>\n",
       "    <tr>\n",
       "      <td>4</td>\n",
       "      <td>'The title says it all. Tail Gunner Joe was a ...</td>\n",
       "      <td>N</td>\n",
       "    </tr>\n",
       "  </tbody>\n",
       "</table>\n",
       "</div>"
      ],
      "text/plain": [
       "                                                Text Class\n",
       "0  'One of the first of the best musicals Anchors...     P\n",
       "1  'Visually disjointed and full of itself the di...     N\n",
       "2  'These type of movies about young teenagers st...     P\n",
       "3  'I would rather of had my eyes gouged out with...     N\n",
       "4  'The title says it all. Tail Gunner Joe was a ...     N"
      ]
     },
     "execution_count": 1,
     "metadata": {},
     "output_type": "execute_result"
    }
   ],
   "source": [
    "import pandas as pd\n",
    "import os\n",
    "import warnings\n",
    "warnings.filterwarnings('ignore')\n",
    "\n",
    "directory = os.getcwd()\n",
    "data = pd.read_csv(directory + '/imdb.csv', sep=',') \n",
    "data = pd.DataFrame(data)\n",
    "data.head()"
   ]
  },
  {
   "cell_type": "code",
   "execution_count": 2,
   "metadata": {},
   "outputs": [],
   "source": [
    "data['Class'][data['Class'] == 'P'] = 1 \n",
    "data['Class'][data['Class'] == 'N'] = 0"
   ]
  },
  {
   "cell_type": "code",
   "execution_count": 3,
   "metadata": {},
   "outputs": [
    {
     "name": "stderr",
     "output_type": "stream",
     "text": [
      "/anaconda3/lib/python3.6/site-packages/sklearn/cross_validation.py:41: DeprecationWarning: This module was deprecated in version 0.18 in favor of the model_selection module into which all the refactored classes and functions are moved. Also note that the interface of the new CV iterators are different from that of this module. This module will be removed in 0.20.\n",
      "  \"This module will be removed in 0.20.\", DeprecationWarning)\n"
     ]
    }
   ],
   "source": [
    "from sklearn import cross_validation\n",
    "from sklearn.cross_validation import train_test_split\n",
    "\n",
    "X = data['Text']\n",
    "Y = data['Class']"
   ]
  },
  {
   "cell_type": "code",
   "execution_count": 4,
   "metadata": {},
   "outputs": [
    {
     "data": {
      "text/plain": [
       "0    'One of the first of the best musicals Anchors...\n",
       "1    'Visually disjointed and full of itself the di...\n",
       "2    'These type of movies about young teenagers st...\n",
       "3    'I would rather of had my eyes gouged out with...\n",
       "4    'The title says it all. Tail Gunner Joe was a ...\n",
       "Name: Text, dtype: object"
      ]
     },
     "execution_count": 4,
     "metadata": {},
     "output_type": "execute_result"
    }
   ],
   "source": [
    "X.head()"
   ]
  },
  {
   "cell_type": "markdown",
   "metadata": {},
   "source": [
    "Let's check for missing values."
   ]
  },
  {
   "cell_type": "code",
   "execution_count": 5,
   "metadata": {},
   "outputs": [
    {
     "data": {
      "text/plain": [
       "Series([], Name: Text, dtype: object)"
      ]
     },
     "execution_count": 5,
     "metadata": {},
     "output_type": "execute_result"
    }
   ],
   "source": [
    "X[X.isna() == True]"
   ]
  },
  {
   "cell_type": "code",
   "execution_count": 6,
   "metadata": {},
   "outputs": [
    {
     "data": {
      "text/plain": [
       "3544    NaN\n",
       "Name: Class, dtype: object"
      ]
     },
     "execution_count": 6,
     "metadata": {},
     "output_type": "execute_result"
    }
   ],
   "source": [
    "Y[Y.isna() == True]"
   ]
  },
  {
   "cell_type": "markdown",
   "metadata": {},
   "source": [
    "We have to replace the missing value in the Y series otherwise our models won't train. "
   ]
  },
  {
   "cell_type": "code",
   "execution_count": 7,
   "metadata": {},
   "outputs": [
    {
     "data": {
      "text/plain": [
       "\"'TIGERLAND / (2000) ***1/2 (out of four) By Blake French: \""
      ]
     },
     "execution_count": 7,
     "metadata": {},
     "output_type": "execute_result"
    }
   ],
   "source": [
    "X.iloc[3544] \n",
    "#this doesn't seem like a full review."
   ]
  },
  {
   "cell_type": "markdown",
   "metadata": {},
   "source": [
    "After some research on the IMDb, I found that this is not the full review. So, the row has been modified and the corresponding Y is 1 for positive review. "
   ]
  },
  {
   "cell_type": "markdown",
   "metadata": {},
   "source": [
    "<img src=\"Review.png\" alt=\"can also be found https://www.imdb.com/review/rw0594730/?ref_=tt_urv\" />"
   ]
  },
  {
   "cell_type": "code",
   "execution_count": 8,
   "metadata": {},
   "outputs": [],
   "source": [
    "X.iloc[3544] = \"\"\"TIGERLAND / (2000) ***1/2 (out of four) By Blake French:\n",
    "Throughout the years audiences have seen and understood war films with every point of view possible, and somehow producers and writers always come up with new and innovative methods of portraying various soldiers on the battlefield. Joel Schumacher (\"8MM,\" \"A Time to Kill\"), easily one of the riskiest directors currently working, has found resemblance with \"The Thin Red Line\" in the way his new drama \"Tigerland\" steps in an individual soldier's shoes. This movie, written by Ross Klavan and Michael McGuther, has more guts and irony than \"The Thin Red Line\" or even \"Saving Private Ryan.\" Although the movie's dramatic impact is somewhat lessened due to the perversity of the material present, it certainly enlightens us on a new perspective of young men training for war. \n",
    "I would want to know Joel Schumacher's experiences with the army. Are the men really this unabashed and brutal? I am sure some of them are, but the movie views its uncompromising world through the eyes of a young man named Roland Bozz (Colin Farrell), who is rebellious against the ideas of war. His personality instantly counteracts with several other characters, one who becomes his best friend, Paxton (Matthew Davis), and another, Wilson (Russell Richardson), whose flamed temper often exasperates Bozz's tension with the idea of going to war. The war depicted in this production is not found on a battlefield, but on training grounds of a Louisiana-based instruction camp between conceptions and fears of the soldiers in training. This film is specifically about the preparation for war, nothing more nothing less. It ends when the soldiers finally go to war, kind of disappointing since witnessing the characters in action would have served as a supurb payoff. \n",
    "Shot on location in about 28 days using 16mm stock and a minuscule budget, Joel Schumacher accurately displays a gritty, perverse, cruel, and unmerciful atmosphere using hand-held cinematography, unique lighting techniques and direct sound. Schumacher's grainy and blown-out images make the movie feel like a documentary feature. This unusual style of filmmaking only contributes to the hard core realism of the movie, quite graphic in its use of coarse language, perhaps a little too disturbing. Waves of four-letter words pound the audience, some in shock of what they are hearing. Even the extreme amount of vulgarism does not keep the dialogue from prevailing as heartbreaking, true, and emotional.\n",
    "If anything, \"Tigerland\" provides us with a minor appreciation of how much our soldiers go through for our country in the beginning stages of combat. Such bravery must it take to enlist in the army during times of war, knowing the hardships and risks that are being taken. Such thought-provoking ideas are made possible through the heartbreaking performances by the young aspiring actors who portray the various trainees. This movie is not for all audiences, but one that young men should take a look at before enlisting themselves in the army...and adult audiences should watch to appreciate the courage needed to do such.\" \"\"\""
   ]
  },
  {
   "cell_type": "code",
   "execution_count": 9,
   "metadata": {},
   "outputs": [
    {
     "data": {
      "text/plain": [
       "'TIGERLAND / (2000) ***1/2 (out of four) By Blake French:\\nThroughout the years audiences have seen and understood war films with every point of view possible, and somehow producers and writers always come up with new and innovative methods of portraying various soldiers on the battlefield. Joel Schumacher (\"8MM,\" \"A Time to Kill\"), easily one of the riskiest directors currently working, has found resemblance with \"The Thin Red Line\" in the way his new drama \"Tigerland\" steps in an individual soldier\\'s shoes. This movie, written by Ross Klavan and Michael McGuther, has more guts and irony than \"The Thin Red Line\" or even \"Saving Private Ryan.\" Although the movie\\'s dramatic impact is somewhat lessened due to the perversity of the material present, it certainly enlightens us on a new perspective of young men training for war. \\nI would want to know Joel Schumacher\\'s experiences with the army. Are the men really this unabashed and brutal? I am sure some of them are, but the movie views its uncompromising world through the eyes of a young man named Roland Bozz (Colin Farrell), who is rebellious against the ideas of war. His personality instantly counteracts with several other characters, one who becomes his best friend, Paxton (Matthew Davis), and another, Wilson (Russell Richardson), whose flamed temper often exasperates Bozz\\'s tension with the idea of going to war. The war depicted in this production is not found on a battlefield, but on training grounds of a Louisiana-based instruction camp between conceptions and fears of the soldiers in training. This film is specifically about the preparation for war, nothing more nothing less. It ends when the soldiers finally go to war, kind of disappointing since witnessing the characters in action would have served as a supurb payoff. \\nShot on location in about 28 days using 16mm stock and a minuscule budget, Joel Schumacher accurately displays a gritty, perverse, cruel, and unmerciful atmosphere using hand-held cinematography, unique lighting techniques and direct sound. Schumacher\\'s grainy and blown-out images make the movie feel like a documentary feature. This unusual style of filmmaking only contributes to the hard core realism of the movie, quite graphic in its use of coarse language, perhaps a little too disturbing. Waves of four-letter words pound the audience, some in shock of what they are hearing. Even the extreme amount of vulgarism does not keep the dialogue from prevailing as heartbreaking, true, and emotional.\\nIf anything, \"Tigerland\" provides us with a minor appreciation of how much our soldiers go through for our country in the beginning stages of combat. Such bravery must it take to enlist in the army during times of war, knowing the hardships and risks that are being taken. Such thought-provoking ideas are made possible through the heartbreaking performances by the young aspiring actors who portray the various trainees. This movie is not for all audiences, but one that young men should take a look at before enlisting themselves in the army...and adult audiences should watch to appreciate the courage needed to do such.\" '"
      ]
     },
     "execution_count": 9,
     "metadata": {},
     "output_type": "execute_result"
    }
   ],
   "source": [
    "X.iloc[3544]"
   ]
  },
  {
   "cell_type": "code",
   "execution_count": 10,
   "metadata": {},
   "outputs": [],
   "source": [
    "Y.iloc[3544] = 1"
   ]
  },
  {
   "cell_type": "code",
   "execution_count": 11,
   "metadata": {},
   "outputs": [],
   "source": [
    "X_train, X_test, Y_train, Y_test = train_test_split(X, Y, train_size=.75)\n",
    "Y = Y.astype('int')"
   ]
  },
  {
   "cell_type": "markdown",
   "metadata": {},
   "source": [
    "We now create a binary `CountVectorizer()` and a binary `TfidfVectorizer()` using the original single words as well as bigrams in the same model as well as an \"english\" stop word list. We then fit these to the training data to extract a vocabulary and then transform both the train and test data. "
   ]
  },
  {
   "cell_type": "code",
   "execution_count": 12,
   "metadata": {},
   "outputs": [],
   "source": [
    "from sklearn.feature_extraction.text import CountVectorizer, TfidfVectorizer"
   ]
  },
  {
   "cell_type": "code",
   "execution_count": 13,
   "metadata": {},
   "outputs": [
    {
     "data": {
      "text/plain": [
       "CountVectorizer(analyzer='word', binary=True, decode_error='strict',\n",
       "        dtype=<class 'numpy.int64'>, encoding='utf-8', input='content',\n",
       "        lowercase=True, max_df=1.0, max_features=None, min_df=1,\n",
       "        ngram_range=(1, 2), preprocessor=None, stop_words='english',\n",
       "        strip_accents=None, token_pattern='(?u)\\\\b\\\\w\\\\w+\\\\b',\n",
       "        tokenizer=None, vocabulary=None)"
      ]
     },
     "execution_count": 13,
     "metadata": {},
     "output_type": "execute_result"
    }
   ],
   "source": [
    "#CountVectorizer\n",
    "binary_vectorizer = CountVectorizer(binary=True, ngram_range=(1, 2), stop_words='english')\n",
    "binary_vectorizer.fit(X_train)"
   ]
  },
  {
   "cell_type": "code",
   "execution_count": 14,
   "metadata": {},
   "outputs": [
    {
     "data": {
      "text/plain": [
       "['00',\n",
       " '00 cashfor',\n",
       " '00 certainly',\n",
       " '00 cost',\n",
       " '00 dollars',\n",
       " '00 hilarious',\n",
       " '00 just',\n",
       " '00 known',\n",
       " '00 late',\n",
       " '00 like']"
      ]
     },
     "execution_count": 14,
     "metadata": {},
     "output_type": "execute_result"
    }
   ],
   "source": [
    "list(binary_vectorizer.vocabulary_.keys())[0:10]\n",
    "binary_vectorizer.get_feature_names()[0:10]"
   ]
  },
  {
   "cell_type": "code",
   "execution_count": 15,
   "metadata": {},
   "outputs": [],
   "source": [
    "#stores data in sparse matrix\n",
    "X_train_binary = binary_vectorizer.transform(X_train)\n",
    "X_test_binary = binary_vectorizer.transform(X_test)"
   ]
  },
  {
   "cell_type": "code",
   "execution_count": 16,
   "metadata": {},
   "outputs": [
    {
     "data": {
      "text/plain": [
       "TfidfVectorizer(analyzer='word', binary=True, decode_error='strict',\n",
       "        dtype=<class 'numpy.int64'>, encoding='utf-8', input='content',\n",
       "        lowercase=True, max_df=1.0, max_features=None, min_df=1,\n",
       "        ngram_range=(1, 2), norm='l2', preprocessor=None, smooth_idf=True,\n",
       "        stop_words='english', strip_accents=None, sublinear_tf=False,\n",
       "        token_pattern='(?u)\\\\b\\\\w\\\\w+\\\\b', tokenizer=None, use_idf=True,\n",
       "        vocabulary=None)"
      ]
     },
     "execution_count": 16,
     "metadata": {},
     "output_type": "execute_result"
    }
   ],
   "source": [
    "#TfidfVectorizer\n",
    "binary_Tfidf_vectorizer = TfidfVectorizer(binary=True, ngram_range=(1, 2), stop_words='english')\n",
    "binary_Tfidf_vectorizer.fit(X_train)"
   ]
  },
  {
   "cell_type": "code",
   "execution_count": 17,
   "metadata": {},
   "outputs": [
    {
     "data": {
      "text/plain": [
       "['00',\n",
       " '00 cashfor',\n",
       " '00 certainly',\n",
       " '00 cost',\n",
       " '00 dollars',\n",
       " '00 hilarious',\n",
       " '00 just',\n",
       " '00 known',\n",
       " '00 late',\n",
       " '00 like']"
      ]
     },
     "execution_count": 17,
     "metadata": {},
     "output_type": "execute_result"
    }
   ],
   "source": [
    "list(binary_Tfidf_vectorizer.vocabulary_.keys())[0:10]\n",
    "binary_Tfidf_vectorizer.get_feature_names()[0:10]"
   ]
  },
  {
   "cell_type": "code",
   "execution_count": 18,
   "metadata": {},
   "outputs": [],
   "source": [
    "#stores data in sparse matrix\n",
    "X_train_binary_Tfidf = binary_Tfidf_vectorizer.transform(X_train)\n",
    "X_test_binary_Tfidf = binary_Tfidf_vectorizer.transform(X_test)"
   ]
  },
  {
   "cell_type": "markdown",
   "metadata": {},
   "source": [
    "Next, let's create `LogisticRegression()` and `BernoulliNB()` models. For all settings we keep the default values. "
   ]
  },
  {
   "cell_type": "code",
   "execution_count": 19,
   "metadata": {},
   "outputs": [],
   "source": [
    "from sklearn.linear_model import LogisticRegression\n",
    "from sklearn.naive_bayes import BernoulliNB\n",
    "from sklearn.metrics import roc_curve, auc"
   ]
  },
  {
   "cell_type": "code",
   "execution_count": 20,
   "metadata": {},
   "outputs": [],
   "source": [
    "#L O G I S T I C  R E G R E S S I O N \n",
    "#CountVectorizer\n",
    "countvec_LR_model = LogisticRegression()\n",
    "countvec_LR_model.fit(X_train_binary, Y_train)\n",
    "countvec_LR_fpr, countvec_LR_tpr, countvec_LR_thresholds = roc_curve(Y_test, countvec_LR_model.predict_proba(X_test_binary)[:,1])\n",
    "countvec_LR_auc = auc(countvec_LR_fpr, countvec_LR_tpr)\n",
    "\n",
    "#TfidfVectorizer\n",
    "Tfidf_LR_model = LogisticRegression()\n",
    "Tfidf_LR_model.fit(X_train_binary_Tfidf, Y_train)\n",
    "Tfidf_LR_fpr, Tfidf_LR_tpr, Tfidf_LR_thresholds = roc_curve(Y_test, Tfidf_LR_model.predict_proba(X_test_binary_Tfidf)[:,1])\n",
    "Tfidf_LR_auc = auc(Tfidf_LR_fpr, Tfidf_LR_tpr)"
   ]
  },
  {
   "cell_type": "code",
   "execution_count": 21,
   "metadata": {},
   "outputs": [],
   "source": [
    "#B E R N O U L L I  N B \n",
    "#CountVectorizer\n",
    "countvec_NB_model = BernoulliNB()\n",
    "countvec_NB_model.fit(X_train_binary, Y_train)\n",
    "countvec_NB_fpr, countvec_NB_tpr, countvec_NB_thresholds = roc_curve(Y_test, countvec_NB_model.predict_proba(X_test_binary)[:,1])\n",
    "countvec_NB_auc = auc(countvec_NB_fpr, countvec_NB_tpr)\n",
    "\n",
    "#TfidfVectorizer\n",
    "Tfidf_NB_model = BernoulliNB()\n",
    "Tfidf_NB_model.fit(X_train_binary_Tfidf, Y_train)\n",
    "Tfidf_NB_fpr, Tfidf_NB_tpr, Tfidf_NB_thresholds = roc_curve(Y_test, Tfidf_NB_model.predict_proba(X_test_binary_Tfidf)[:,1])\n",
    "Tfidf_NB_auc = auc(Tfidf_NB_fpr, Tfidf_NB_tpr)"
   ]
  },
  {
   "cell_type": "markdown",
   "metadata": {},
   "source": [
    "With our models trained, we will observe the results in a single plot that show the AUC curve for both classifiers and both vectorizers. In the legend is the area under the ROC curve (AUC)."
   ]
  },
  {
   "cell_type": "code",
   "execution_count": 22,
   "metadata": {},
   "outputs": [
    {
     "data": {
      "text/plain": [
       "<matplotlib.legend.Legend at 0x1a29d27a90>"
      ]
     },
     "execution_count": 22,
     "metadata": {},
     "output_type": "execute_result"
    },
    {
     "data": {
      "image/png": "[encoded data removed]",
      "text/plain": [
       "<Figure size 864x864 with 1 Axes>"
      ]
     },
     "metadata": {},
     "output_type": "display_data"
    }
   ],
   "source": [
    "import numpy as np\n",
    "import matplotlib.pyplot as plt\n",
    "%matplotlib inline\n",
    "plt.rcParams['figure.figsize'] = 12, 12\n",
    "\n",
    "\n",
    "plt.plot(countvec_LR_fpr, countvec_LR_tpr, color = 'b', label = \"LogReg: Count Vectorizer\" + ' (AUC = %0.3f)' % countvec_LR_auc)\n",
    "plt.plot(Tfidf_LR_fpr, Tfidf_LR_tpr, color = 'g', label = \"LogReg: Tfidf Vectorizer\" + ' (AUC = %0.3f)' % Tfidf_LR_auc)\n",
    "plt.plot(countvec_NB_fpr, countvec_NB_tpr, color = 'r', label = \"Bernouli NB: Count Vectorizer\" + ' (AUC = %0.3f)' % countvec_NB_auc)\n",
    "plt.plot(Tfidf_NB_fpr, Tfidf_NB_tpr, color = 'y', label = \"Bernouli NB: Tfidf Vectorizer\" + ' (AUC = %0.3f)' % Tfidf_NB_auc)\n",
    "\n",
    "\n",
    "plt.plot([0, 1], [0, 1], 'k--')\n",
    "plt.xlim([0.0, 1.0])\n",
    "plt.ylim([0.0, 1.0])\n",
    "\n",
    "plt.xlabel('False Positive Rate')\n",
    "plt.ylabel('True Positive Rate')\n",
    "plt.title('ROC')\n",
    "plt.legend(loc=\"lower right\")\n"
   ]
  },
  {
   "cell_type": "markdown",
   "metadata": {},
   "source": [
    "You can't pass strings to a model's fit() method. As mentioned in the scikit-learn documentation: \"The training input samples. Internally, it will be converted to dtype=np.float32 and if a sparse matrix is provided to a sparse csc_matrix.\" That's why we're using the transformed X_test set."
   ]
  },
  {
   "cell_type": "code",
   "execution_count": 23,
   "metadata": {},
   "outputs": [
    {
     "name": "stdout",
     "output_type": "stream",
     "text": [
      "LogReg: Count Vectorizer - Accuracy: 0.8607058823529412\n",
      "Winner!! ** LogReg: Tfidf Vectorizer - Accuracy: 0.8574117647058823\n",
      "Bernouli NB: Count Vectorizer - Accuracy: 0.864\n",
      "Bernouli NB: Tfidf Vectorizer - Accuracy: 0.864\n"
     ]
    }
   ],
   "source": [
    "from sklearn.metrics import accuracy_score\n",
    "\n",
    "y_predict_LR_count = countvec_LR_model.predict(X_test_binary)\n",
    "y_predict_LR_Tfidf = Tfidf_LR_model.predict(X_test_binary_Tfidf)\n",
    "y_predict_NB_count = countvec_NB_model.predict(X_test_binary)\n",
    "y_predict_NB_Tfidf = Tfidf_NB_model.predict(X_test_binary_Tfidf)\n",
    "\n",
    "print(\"LogReg: Count Vectorizer - Accuracy: \" + str(accuracy_score(Y_test, y_predict_LR_count)) )\n",
    "print(\"Winner!! ** LogReg: Tfidf Vectorizer - Accuracy: \" + str(accuracy_score(Y_test, y_predict_LR_Tfidf)) )\n",
    "print(\"Bernouli NB: Count Vectorizer - Accuracy: \" + str(accuracy_score(Y_test, y_predict_NB_count)) )\n",
    "print(\"Bernouli NB: Tfidf Vectorizer - Accuracy: \" + str(accuracy_score(Y_test, y_predict_NB_Tfidf)) )"
   ]
  },
  {
   "cell_type": "markdown",
   "metadata": {},
   "source": [
    "Also, below is a 10-fold cross validation procedure used to evaluate each algorithm with summarized results. Cross Validation gives more realistic measure of accuracy."
   ]
  },
  {
   "cell_type": "code",
   "execution_count": 24,
   "metadata": {},
   "outputs": [
    {
     "name": "stdout",
     "output_type": "stream",
     "text": [
      "LogReg: Count Vectorizer: 0.826831 (0.026255)\n",
      "Bernouli NB: Count Vectorizer: 0.714840 (0.069079)\n",
      "LogReg: Tfidf Vectorizer: 0.829146 (0.035515)\n",
      "Bernouli NB: Tfidf Vectorizer: 0.714840 (0.069079)\n"
     ]
    }
   ],
   "source": [
    "from sklearn import model_selection\n",
    "\n",
    "binary_models = []\n",
    "Tfidf_models= []\n",
    "binary_models.append(('LogReg: Count Vectorizer', countvec_LR_model))\n",
    "Tfidf_models.append(('LogReg: Tfidf Vectorizer', Tfidf_LR_model))\n",
    "binary_models.append(('Bernouli NB: Count Vectorizer', countvec_NB_model))\n",
    "Tfidf_models.append(('Bernouli NB: Tfidf Vectorizer', Tfidf_NB_model))\n",
    "\n",
    "results = []\n",
    "names = []\n",
    "    \n",
    "for name, model in binary_models:\n",
    "    kfold = model_selection.KFold(n_splits=10, random_state=10)\n",
    "    cv_results = model_selection.cross_val_score(model, X_test_binary, Y_test, cv=kfold, scoring='accuracy')\n",
    "    results.append(cv_results)\n",
    "    names.append(name)\n",
    "    msg = \"%s: %f (%f)\" % (name, cv_results.mean(), cv_results.std())\n",
    "    print(msg)\n",
    "\n",
    "    \n",
    "for name, model in Tfidf_models:\n",
    "    kfold = model_selection.KFold(n_splits=10, random_state=10)\n",
    "    cv_results = model_selection.cross_val_score(model, X_test_binary_Tfidf, Y_test, cv=kfold, scoring='accuracy')\n",
    "    results.append(cv_results)\n",
    "    names.append(name)\n",
    "    msg = \"%s: %f (%f)\" % (name, cv_results.mean(), cv_results.std())\n",
    "    print(msg)"
   ]
  },
  {
   "cell_type": "code",
   "execution_count": 25,
   "metadata": {},
   "outputs": [
    {
     "data": {
      "image/png": "[encoded data removed]",
      "text/plain": [
       "<Figure size 1440x720 with 1 Axes>"
      ]
     },
     "metadata": {},
     "output_type": "display_data"
    }
   ],
   "source": [
    "# boxplot algorithm comparison\n",
    "fig = plt.figure(figsize=(20,10))\n",
    "plt.title('Algorithm Comparison')\n",
    "ax = fig.add_subplot(111)\n",
    "plt.boxplot(results)\n",
    "ax.set_xticklabels(names)\n",
    "plt.show()"
   ]
  },
  {
   "cell_type": "markdown",
   "metadata": {},
   "source": [
    "The Logistic Regression with Tfidf vectorizer consistently performs the best. It has the highest AUC and in a 10-fold cross validation and it has the highest mean accuracy and lowest standard deviation accuracy which means it's performance is high without an extreme varying degree. This may be because Tfidf emphasizes rare words in addition to the count of the words. Accuracy may be misleading because it makes no distinction between false positive and false negative errors, however it is a simple and straight forward measure that I believe is appropriate here.  \n",
    "\n",
    "The Bernoulli Count vectorizer and the Tfidf vectorizer perform identically. They have the same spread and AUC. This may be because BernoulliNB assumes each data feature to be a binary-valued variable. It also explicitly penalizes the non-occurrence of a feature that is an indicator for class.\n",
    "\n",
    "We would probably have more success with a Multinomial model that ignores a non-occurring feature and counts how often an event occurred instead of only describes whether or not an event occurred."
   ]
  },
  {
   "cell_type": "markdown",
   "metadata": {
    "collapsed": true
   },
   "source": [
    "Let's use the The Logistic Regression with Tfidf vectorizer to predict the rating of the test data. \n",
    "\n",
    "Below are 5 examples that were labeled positive, but were incorrectly classified as negative. We try to hypothesize where the algorithm incorrectly learned. "
   ]
  },
  {
   "cell_type": "code",
   "execution_count": 27,
   "metadata": {},
   "outputs": [
    {
     "data": {
      "text/plain": [
       "True"
      ]
     },
     "execution_count": 27,
     "metadata": {},
     "output_type": "execute_result"
    }
   ],
   "source": [
    "a = Tfidf_LR_model.predict(X_test_binary_Tfidf)\n",
    "X_test.size == Y_test.size == a.size"
   ]
  },
  {
   "cell_type": "code",
   "execution_count": 79,
   "metadata": {},
   "outputs": [
    {
     "data": {
      "text/html": [
       "<div>\n",
       "<style scoped>\n",
       "    .dataframe tbody tr th:only-of-type {\n",
       "        vertical-align: middle;\n",
       "    }\n",
       "\n",
       "    .dataframe tbody tr th {\n",
       "        vertical-align: top;\n",
       "    }\n",
       "\n",
       "    .dataframe thead th {\n",
       "        text-align: right;\n",
       "    }\n",
       "</style>\n",
       "<table border=\"1\" class=\"dataframe\">\n",
       "  <thead>\n",
       "    <tr style=\"text-align: right;\">\n",
       "      <th></th>\n",
       "      <th>X_test</th>\n",
       "      <th>Y_test</th>\n",
       "      <th>Predicted</th>\n",
       "    </tr>\n",
       "  </thead>\n",
       "  <tbody>\n",
       "    <tr>\n",
       "      <td>13</td>\n",
       "      <td>'Didnt Mystic Pizza win the Oscar for that yea...</td>\n",
       "      <td>1</td>\n",
       "      <td>0</td>\n",
       "    </tr>\n",
       "    <tr>\n",
       "      <td>25</td>\n",
       "      <td>'This is a weird movie about an archaeologist ...</td>\n",
       "      <td>1</td>\n",
       "      <td>0</td>\n",
       "    </tr>\n",
       "    <tr>\n",
       "      <td>44</td>\n",
       "      <td>'In the hands of a more skilled director this ...</td>\n",
       "      <td>1</td>\n",
       "      <td>0</td>\n",
       "    </tr>\n",
       "    <tr>\n",
       "      <td>62</td>\n",
       "      <td>'Kurosawa fresh into color losses sight of his...</td>\n",
       "      <td>1</td>\n",
       "      <td>0</td>\n",
       "    </tr>\n",
       "    <tr>\n",
       "      <td>87</td>\n",
       "      <td>'I just cant believe that these games can get ...</td>\n",
       "      <td>1</td>\n",
       "      <td>0</td>\n",
       "    </tr>\n",
       "    <tr>\n",
       "      <td>...</td>\n",
       "      <td>...</td>\n",
       "      <td>...</td>\n",
       "      <td>...</td>\n",
       "    </tr>\n",
       "    <tr>\n",
       "      <td>2085</td>\n",
       "      <td>'Its all about Mitzi. I loved her in this. And...</td>\n",
       "      <td>1</td>\n",
       "      <td>0</td>\n",
       "    </tr>\n",
       "    <tr>\n",
       "      <td>2088</td>\n",
       "      <td>'Ive just watch 2 films of Pang brothers The E...</td>\n",
       "      <td>1</td>\n",
       "      <td>0</td>\n",
       "    </tr>\n",
       "    <tr>\n",
       "      <td>2094</td>\n",
       "      <td>'As a fan of looking further into the phenomen...</td>\n",
       "      <td>1</td>\n",
       "      <td>0</td>\n",
       "    </tr>\n",
       "    <tr>\n",
       "      <td>2118</td>\n",
       "      <td>'If youve ever wondered why they dont make por...</td>\n",
       "      <td>1</td>\n",
       "      <td>0</td>\n",
       "    </tr>\n",
       "    <tr>\n",
       "      <td>2121</td>\n",
       "      <td>'People call this a comedy but when I just wat...</td>\n",
       "      <td>1</td>\n",
       "      <td>0</td>\n",
       "    </tr>\n",
       "  </tbody>\n",
       "</table>\n",
       "<p>157 rows × 3 columns</p>\n",
       "</div>"
      ],
      "text/plain": [
       "                                                 X_test  Y_test  Predicted\n",
       "13    'Didnt Mystic Pizza win the Oscar for that yea...       1          0\n",
       "25    'This is a weird movie about an archaeologist ...       1          0\n",
       "44    'In the hands of a more skilled director this ...       1          0\n",
       "62    'Kurosawa fresh into color losses sight of his...       1          0\n",
       "87    'I just cant believe that these games can get ...       1          0\n",
       "...                                                 ...     ...        ...\n",
       "2085  'Its all about Mitzi. I loved her in this. And...       1          0\n",
       "2088  'Ive just watch 2 films of Pang brothers The E...       1          0\n",
       "2094  'As a fan of looking further into the phenomen...       1          0\n",
       "2118  'If youve ever wondered why they dont make por...       1          0\n",
       "2121  'People call this a comedy but when I just wat...       1          0\n",
       "\n",
       "[157 rows x 3 columns]"
      ]
     },
     "execution_count": 79,
     "metadata": {},
     "output_type": "execute_result"
    }
   ],
   "source": [
    "results = pd.DataFrame({'X_test':X_test.values, 'Y_test':Y_test.values, 'Predicted':Tfidf_LR_model.predict(X_test_binary_Tfidf)})\n",
    "\n",
    "wrong_results = results[results['Y_test'] != results['Predicted'] ]\n",
    "\n",
    "#Reminder: 1 is positive, 0 is negative. False positives are originally labeled as 1 but predicted to be 0. \n",
    "fp = wrong_results[wrong_results['Y_test'] == 1]\n",
    "fp"
   ]
  },
  {
   "cell_type": "code",
   "execution_count": 92,
   "metadata": {
    "scrolled": true
   },
   "outputs": [
    {
     "data": {
      "text/html": [
       "<div>\n",
       "<style scoped>\n",
       "    .dataframe tbody tr th:only-of-type {\n",
       "        vertical-align: middle;\n",
       "    }\n",
       "\n",
       "    .dataframe tbody tr th {\n",
       "        vertical-align: top;\n",
       "    }\n",
       "\n",
       "    .dataframe thead th {\n",
       "        text-align: right;\n",
       "    }\n",
       "</style>\n",
       "<table border=\"1\" class=\"dataframe\">\n",
       "  <thead>\n",
       "    <tr style=\"text-align: right;\">\n",
       "      <th></th>\n",
       "      <th>X_test</th>\n",
       "      <th>Y_test</th>\n",
       "      <th>Predicted</th>\n",
       "    </tr>\n",
       "  </thead>\n",
       "  <tbody>\n",
       "    <tr>\n",
       "      <td>455</td>\n",
       "      <td>'Well this film is a difficult one really. To ...</td>\n",
       "      <td>1</td>\n",
       "      <td>0</td>\n",
       "    </tr>\n",
       "  </tbody>\n",
       "</table>\n",
       "</div>"
      ],
      "text/plain": [
       "                                                X_test  Y_test  Predicted\n",
       "455  'Well this film is a difficult one really. To ...       1          0"
      ]
     },
     "execution_count": 92,
     "metadata": {},
     "output_type": "execute_result"
    }
   ],
   "source": [
    "fp.sample()"
   ]
  },
  {
   "cell_type": "code",
   "execution_count": 84,
   "metadata": {},
   "outputs": [
    {
     "data": {
      "text/plain": [
       "\"'Caught this film in about 1990 on video by chance and without knowing what i was in for. Many horror fans may have missed this thinking it was a typical prison film and the ones who did get it didnt like it as it was not what they wanted to see. The above mentioned factors are probably the reasons it is low rated but just ignore that and give it a whirl if youre a fan of the genre. It has strong suits in all departments from script and atmosphere to acting and the prison itself.  An absolute diamond a film i still have on video to this day. Check it out.'\""
      ]
     },
     "execution_count": 84,
     "metadata": {},
     "output_type": "execute_result"
    }
   ],
   "source": [
    "X_test.iloc[222]"
   ]
  },
  {
   "cell_type": "markdown",
   "metadata": {},
   "source": [
    "This review is considered positive but contains lots of negative words like \"low rated\" and \"didn't like\" which the ngram probably picked up on. "
   ]
  },
  {
   "cell_type": "code",
   "execution_count": 86,
   "metadata": {},
   "outputs": [
    {
     "data": {
      "text/plain": [
       "\"'I went to this movie expecting an artsy scary film. What I got was scare after scare. Its a horror film at its core. Its not dull like other horror films where a haunted house just has ghosts and gore. This film doesnt even show you the majority of the deaths it shows the fear of the characters. I think one of the best things about the concept where its not just the house thats haunted its whoever goes into the house. They become haunted no matter where they are. Office buildings police stations hotel rooms... etc. After reading some of the external reviews I am really surprised that critics didnt like this film. I am going to see it again this week and am excited about it. I gave this film 10 stars because it did what a horror film should. It scared the s**t out of me.'\""
      ]
     },
     "execution_count": 86,
     "metadata": {},
     "output_type": "execute_result"
    }
   ],
   "source": [
    "X_test.iloc[1549]"
   ]
  },
  {
   "cell_type": "markdown",
   "metadata": {},
   "source": [
    "Interestingly, this is also a horror film review. This horror films are in general gory and negative, the algorithm might be misinterpreting this as a negative review when in fact it is what the reader is looking for."
   ]
  },
  {
   "cell_type": "code",
   "execution_count": 88,
   "metadata": {},
   "outputs": [
    {
     "data": {
      "text/plain": [
       "\"'People call this a comedy but when I just watched it I laughed only once. I guess the problem is that I first saw it when I was 14 and I wasnt old enough to understand that it wasnt meant to be taken seriously. There were quite a few scenes that were meant to be funny but I cared too much about the characters to laugh at them. I suggest that you watch this film next time youre falling in love and try to take it seriously. I think youll find that despite a few silly flaws its one of the most moving love stories youve ever seen.'\""
      ]
     },
     "execution_count": 88,
     "metadata": {},
     "output_type": "execute_result"
    }
   ],
   "source": [
    "X_test.iloc[2121]"
   ]
  },
  {
   "cell_type": "markdown",
   "metadata": {},
   "source": [
    "This review is interesting because it starts off negative and then becomes positive. It might be that more of the words pertain to the writer's negative outlook of the movie in the past as opposed to their present view so the model classified it was negative."
   ]
  },
  {
   "cell_type": "code",
   "execution_count": 90,
   "metadata": {},
   "outputs": [
    {
     "data": {
      "text/plain": [
       "\"'This movies origins are a mystery to me as I only know as much as IMDB did before I rented it. I assume that before Starship Troopers Killshot was one of the countless unaired pilots that never made it to network cable or otherwise. The new title of Kill Shot is comically thrown into the opening sequence the first of many quick clues that this was not ever intended for the cinema. The quick cuts cheesy Melrose Place music and short 2-second close-up candid shots of the main actors let you know what youre in for. And I dont mind at all. I rented this movie seeing the repackaging that puts Casper Van Dien and Denise Richards on the cover in front of a volleyball net thinking it would be funny to see them in a movie besides the SciFi travesty of Starship Troopers (an excellent book in my opinion not so hot a movie - but thats another review). After looking it up on IMDB my roommate and I surmised that the pilot was dragged up after the apparent success of Troopers and Richards own career (see Bond-Girl and Wild Things references here). They threw in a sex scene involving a minor character to reach the coveted R-rated status - coveted in suspense Video Rental sections that is. In any event they should have left it unrated if youre trying to sell it in the suspense/softcore porn section. All in all its entertaining. I hate to spoil the fun of telling you its a TV pilot though. That was the biggest pull while watching it - when you expect a cinematic movie and get a TV show the differences between them make themselves more clear than usual. Would I rent it again? No. Would I watch this TV show? Well why not - its better than Baywatch. And their meager attempts at hitting all demographics would have done well back in the mid 90s. Token black guy (whos gay to avoid the TV taboo of inter-racial dating) token Asian (Japanese I assume from the name Koji) more adept at science and computers than talking to women beautiful intelligent Latina pre-med student who has everything going for her except her familys bank account - this show probably would have done ok. But as a movie it just cracks me. I gave it a 7 out of 10 considering what it was and what it was forced to become. It made for a very enjoyable evening and thats all I ask of rentals.'\""
      ]
     },
     "execution_count": 90,
     "metadata": {},
     "output_type": "execute_result"
    }
   ],
   "source": [
    "X_test.iloc[1159]"
   ]
  },
  {
   "cell_type": "markdown",
   "metadata": {},
   "source": [
    "This viewer is very indifferent about the movie. It sounds like they watched it because they had nothing better to do. Because of this, the language they use is also very dry and unenthusiastic. The model probably translated this as negative. "
   ]
  },
  {
   "cell_type": "code",
   "execution_count": 93,
   "metadata": {},
   "outputs": [
    {
     "data": {
      "text/plain": [
       "\"'Well this film is a difficult one really. To be straight with you this film doesnt contain much of a riveting story nore does it make u want to know how itll end...but Ill tell you something now...never have I been as tense and jumped up before in my life! This film sure does deliver the jumps and thrills! To be fair I did watch it at almost midnight so I was kinda sleepy anyway so maybe that explains why I was jumpy...or maybe its because this film does deliver in that aspect! Its basically about a couple who lose their child in a tragic event. They decide to move away and rent a cabin looking thing in the mountains...all looks peaceful and calm until they have their first visitors (i think its its the sister of the main character and she brings along her husband)...during the night the husband hears noises...checks it out and thats when things start to go really really wrong...they dont stay for another day and tell the couple they should leave asap as something isnt right...to cut a long story short...eventually they find out what has happened in that house in the past few years and decide it needs to be taken care of. Its not a Hollywood blockbuster nore does it have a huge budget but please dont let that put you off. Its creepy tense and very very jumpy! Just give it a try :)'\""
      ]
     },
     "execution_count": 93,
     "metadata": {},
     "output_type": "execute_result"
    }
   ],
   "source": [
    "X_test.iloc[455]"
   ]
  },
  {
   "cell_type": "markdown",
   "metadata": {},
   "source": [
    "This is another review for a horror film and the reviewer is suggesting to maybe watch it. Again, we see the indifferent attitude. A combination of the two tones and horror language probably suggested to the model that it was a negative review. "
   ]
  }
 ],
 "metadata": {
  "anaconda-cloud": {},
  "kernelspec": {
   "display_name": "Python 3",
   "language": "python",
   "name": "python3"
  },
  "language_info": {
   "codemirror_mode": {
    "name": "ipython",
    "version": 3
   },
   "file_extension": ".py",
   "mimetype": "text/x-python",
   "name": "python",
   "nbconvert_exporter": "python",
   "pygments_lexer": "ipython3",
   "version": "3.6.4"
  }
 },
 "nbformat": 4,
 "nbformat_minor": 1
}
