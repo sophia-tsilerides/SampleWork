{
 "cells": [
  {
   "cell_type": "markdown",
   "metadata": {},
   "source": [
    "# Introduction to Data Science\n",
    "## Feature Selection and Decision Tree Modeling"
   ]
  },
  {
   "cell_type": "markdown",
   "metadata": {},
   "source": [
    "Sophia Maria Tsilerides\n",
    "\n",
    "***"
   ]
  },
  {
   "attachments": {},
   "cell_type": "markdown",
   "metadata": {},
   "source": [
    "With supervised segmentation, we must asses our features so that our classifers create groups of similar characteristics. These become our \"informative attributes.\" However, target attributes rarely split a group perfectly. There might only be one example of a group, not all the attributes may be binary, or some attributes may be numeric and a range is needed to split them and treat them as categories. Purity measure gives us a formula that evaluates how well each attribute splits a set of examples into segments. \n",
    "\n",
    "Purity measures inclue entropy and information gain. Entropy tells us how impure one individual subset is, in other words, how much disorder is in a set. We want entropy to be low. Information gain measures how much an attribute improves entropy over the whole segmentation it creates. Strictly speaking, information gain measures the change in entropy due to any amount of new information being added. We want information gain high.\n",
    "\n",
    "The formulas for Mutual Information, Entropy and Conditional Entropy are given by:\n",
    "\n",
    "$$\\text{Mutual Information} = \\sum_{y \\in Y} \\sum_{x \\in X} p(x, y) \\cdot log\\frac{p(x, y)}{p(x)p(y)}$$\n",
    "\n",
    "$$\\text{Entropy} = H(Y) = -\\sum_{y \\in Y} p(y) \\cdot log(p(y))$$\n",
    "\n",
    "$$\\text{Conditional Entropy} = H(Y \\mid X) = \\sum_{x \\in X} p(x) \\cdot H(Y \\mid X = x)$$\n",
    "\n",
    "Mathematically, $\\text{Mutual Information} = \\text{Information Gain}$, where $\\text{Information Gain} = H(Y) – H(Y \\mid X)$. "
   ]
  },
  {
   "cell_type": "markdown",
   "metadata": {},
   "source": [
    "### Preparing a Training Set and Training a Decision Tree\n",
    "Here, we build a predictive model using Decision Trees and the data set `cell2cell_data.csv`.\n",
    "\n",
    "These historical data consist of 39,859 customers: 19,901 customers that churned (i.e., left the company) and 19,958 that did not churn (see the `\"churndep\"` variable). Here are the data set's 11 possible predictor variables for churning behavior: \n",
    "\n",
    "```\n",
    "Pos.  Var. Name  Var. Description\n",
    "----- ---------- --------------------------------------------------------------\n",
    "1     revenue    Mean monthly revenue in dollars\n",
    "2     outcalls   Mean number of outbound voice calls\n",
    "3     incalls    Mean number of inbound voice calls\n",
    "4     months     Months in Service\n",
    "5     eqpdays    Number of days the customer has had his/her current equipment\n",
    "6     webcap     Handset is web capable\n",
    "7     marryyes   Married (1=Yes; 0=No)\n",
    "8     travel     Has traveled to non-US country (1=Yes; 0=No)\n",
    "9     pcown      Owns a personal computer (1=Yes; 0=No)\n",
    "10    creditcd   Possesses a credit card (1=Yes; 0=No)\n",
    "11    retcalls   Number of calls previously made to retention team\n",
    "```\n",
    "\n",
    "The 12th column, the dependent variable `\"churndep\"`, equals 1 if the customer churned, and 0 otherwise. \n",
    "\n",
    "Using a model that predicts churn can enable the company to reach out to at-risk customers and try to prevent it. Additionally, understanding the drivers of churn gives valuable feedback for the company to improve their service. From these insights, strategies for business relationship management can be developed to improve churn rates.  "
   ]
  },
  {
   "cell_type": "markdown",
   "metadata": {},
   "source": [
    "First, we will load the data and prepare it for modeling. The features are already processed, so the only thing we need to do is split the data into training and testing, with testing having 80% of the data chosen uniformly at random without replacement.\n",
    "\n",
    "When a sample is selected at random, each member of the population is equally likely to be selected. There are many different ways to select a sample from a population. To make valid inferences about a population, we must choose a random sample very carefully so that it accurately represents the population and there is no selection bias. We want to avoid selection bias so that our churn model can be generalizable to real world data and we can estimate the \"churndep\" parameter given the data we have. \n",
    "\n",
    "Our probability of being sampled must be independent from our parameters. In other words, the data in the churn data set can have no bearing our sampling mechanism. \n",
    "\n",
    "Here, we use the pandas method \"sample\" to randomly select 80% of the data points without replacement and store them in the training dataset. This is equivalent to introducing a 3rd variable (selected or not selected) that the sampling mechanism depends on. This works because the data samples are bias towards this variable, but it is not part of our analysis. Therefore, the sampling mechanism is independent from the variables under study and there is no selection bias to the parameters being learned. \n",
    "\n",
    "A test to check if our probability distributions of, say, S: probability of being sampled, and the probability distribution of our parameters are independent. That is P(S|parameters) = P(S)."
   ]
  },
  {
   "cell_type": "code",
   "execution_count": 1,
   "metadata": {},
   "outputs": [],
   "source": [
    "import pandas as pd\n",
    "import os\n",
    "\n",
    "directory = os.getcwd()\n",
    "data = pd.read_csv(directory + '/cell2cell_data.csv', sep=',') \n",
    "data = pd.DataFrame(data)\n",
    "data.columns = ['revenue', 'outcalls', 'incalls', 'months', 'eqpdays', 'webcap', 'marryyes','travel','pcown','creditcd','retcalls', 'churndep']\n",
    "\n",
    "train_df = data.sample(frac=0.8, replace=False, random_state=1)\n",
    "test_df = data[~data.isin(train_df)].dropna()"
   ]
  },
  {
   "cell_type": "code",
   "execution_count": 2,
   "metadata": {},
   "outputs": [
    {
     "data": {
      "text/plain": [
       "31886"
      ]
     },
     "execution_count": 2,
     "metadata": {},
     "output_type": "execute_result"
    }
   ],
   "source": [
    "len(train_df)"
   ]
  },
  {
   "cell_type": "code",
   "execution_count": 3,
   "metadata": {},
   "outputs": [
    {
     "data": {
      "text/plain": [
       "7972"
      ]
     },
     "execution_count": 3,
     "metadata": {},
     "output_type": "execute_result"
    }
   ],
   "source": [
    "len(test_df)"
   ]
  },
  {
   "cell_type": "markdown",
   "metadata": {},
   "source": [
    "Next, we build and train a decision tree classifier using `DecisionTreeClassifier()` from the scikit-learn package. Using `criterion='entropy'` when instantiating an instance of `DecisionTreeClassifier()`, we can extract the built in feature importances and make a bar plot sorted by increasing feature importance values."
   ]
  },
  {
   "cell_type": "code",
   "execution_count": 4,
   "metadata": {},
   "outputs": [],
   "source": [
    "from sklearn import tree\n",
    "\n",
    "model = tree.DecisionTreeClassifier(criterion='entropy')\n",
    "\n",
    "X = train_df.drop('churndep', axis=1)\n",
    "y = train_df['churndep']\n",
    "model = model.fit(X,y)"
   ]
  },
  {
   "cell_type": "code",
   "execution_count": 5,
   "metadata": {},
   "outputs": [
    {
     "data": {
      "text/plain": [
       "Text(0.5,0,'Relative Importance')"
      ]
     },
     "execution_count": 5,
     "metadata": {},
     "output_type": "execute_result"
    },
    {
     "data": {
      "image/png": "[encoded data removed]",
      "text/plain": [
       "<Figure size 432x288 with 1 Axes>"
      ]
     },
     "metadata": {},
     "output_type": "display_data"
    }
   ],
   "source": [
    "import numpy as np\n",
    "import matplotlib.pyplot as plt\n",
    "%matplotlib inline\n",
    "\n",
    "importances = model.feature_importances_\n",
    "indices = np.argsort(importances)\n",
    "features = data.columns[0:12]\n",
    "\n",
    "plt.figure(1)\n",
    "plt.title('Feature Importances')\n",
    "plt.barh(range(len(indices)), importances[indices], color='b', align='center')\n",
    "plt.yticks(range(len(indices)), features[indices])\n",
    "plt.xlabel('Relative Importance')"
   ]
  },
  {
   "cell_type": "markdown",
   "metadata": {},
   "source": [
    "Identifying which variables are important help detect and improve services to mitigate churn. From the decision tree model, we see that the three most important features for predicting church in the decision tree are `revenue`, `eqpdays` and `outcalls`. The metric used in the model is the normalized Gini index for which a high value makes the feature more important. To know more about the relationship between the variables, we must calculate the correlation. The correlation between these important features and the target variable reveal more information about the relationship between them. \n",
    "\n",
    "Let's look at the correlation between the top 3 most important features."
   ]
  },
  {
   "cell_type": "code",
   "execution_count": 6,
   "metadata": {},
   "outputs": [
    {
     "data": {
      "text/plain": [
       "revenue    -0.013561\n",
       "eqpdays     0.112698\n",
       "outcalls   -0.037223\n",
       "dtype: float64"
      ]
     },
     "execution_count": 6,
     "metadata": {},
     "output_type": "execute_result"
    }
   ],
   "source": [
    "imp_features = data[['revenue', 'eqpdays', 'outcalls', 'churndep']]\n",
    "imp_features.drop('churndep', axis=1).apply(lambda x: x.corr(data.churndep))"
   ]
  },
  {
   "cell_type": "markdown",
   "metadata": {},
   "source": [
    "The relationship between churn and the mean monthly revenue of the account holder is negative. This implies that as revenue increase, the likelihood of churn goes down. This makes sense since account holders that can afford the service will not likely churn. However, depending on the spread of the revenue, it may imply that the service is too expensive for the average household. \n",
    "\n",
    "The relationship between churn and the number of days an account holder has their equipment is positive. This means that the variables change in the same direction: the longer a customer has their phone, the less likely they are to churn. The \"real-life\" connection for this statistic is basic habitual human behavior. People that have the service and phone longer are reluctant to change.\n",
    "\n",
    "Lastly, the relationship between churn and the mean number of outbound calls a user makes has a negative correlation. Similar to the relationship with revenue, a negative correlation means the variables change in the opposite direction. This may mean that the more calls someone has to make, the more frustrated they are. It could be because the service is bad and the user has to always call back or they are making a lot of calls to customer service. It would be worth looking into the location of the users and locations of cell towers to make sure the company is providing satisfactory coverage."
   ]
  },
  {
   "cell_type": "markdown",
   "metadata": {},
   "source": [
    "Let's take a look at the accuracies for the Decision Tree Model using the classifier built to predict \"churndep\" on both the train_df and test_df data sets. "
   ]
  },
  {
   "cell_type": "code",
   "execution_count": 7,
   "metadata": {},
   "outputs": [],
   "source": [
    "X_train = train_df.drop('churndep', axis=1)\n",
    "y_train = train_df['churndep']\n",
    "X_test = test_df.drop('churndep', axis=1)\n",
    "y_test = test_df['churndep']"
   ]
  },
  {
   "cell_type": "code",
   "execution_count": 8,
   "metadata": {},
   "outputs": [
    {
     "data": {
      "text/plain": [
       "0.9998431913692529"
      ]
     },
     "execution_count": 8,
     "metadata": {},
     "output_type": "execute_result"
    }
   ],
   "source": [
    "from sklearn.metrics import accuracy_score\n",
    "\n",
    "#on training\n",
    "y_predict_train = model.predict(X_train)\n",
    "accuracy_score(y_train, y_predict_train)"
   ]
  },
  {
   "cell_type": "code",
   "execution_count": 9,
   "metadata": {},
   "outputs": [
    {
     "data": {
      "text/plain": [
       "0.5308580030105369"
      ]
     },
     "execution_count": 9,
     "metadata": {},
     "output_type": "execute_result"
    }
   ],
   "source": [
    "#on testing\n",
    "y_predict_test = model.predict(X_test)\n",
    "accuracy_score(y_test, y_predict_test)"
   ]
  },
  {
   "cell_type": "markdown",
   "metadata": {},
   "source": [
    "The high accuracy on training data suggests overfitting. The model predicts too closely the outcomes in the training dataset and does not perform well in the field. This may be due to the simplicity of the model. When a model is not allowed to be complex enough, it is not very accurate.\n",
    "\n",
    "The accuracy of the testing dataset is about 53%, which is not much better than 50/50 guessing. A model should have a higher accuracy than just the base rate: the percent of “yes” that is in the original dataset, which for this dataset is 50%."
   ]
  },
  {
   "cell_type": "code",
   "execution_count": 10,
   "metadata": {},
   "outputs": [
    {
     "data": {
      "text/plain": [
       "0.49927241708063624"
      ]
     },
     "execution_count": 10,
     "metadata": {},
     "output_type": "execute_result"
    }
   ],
   "source": [
    "len(data[data['churndep'] == 1])/ len(data)"
   ]
  },
  {
   "cell_type": "markdown",
   "metadata": {},
   "source": [
    "One issue might be the default options we left in the decision tree. They are probably not optimal. We need to analyze whether tuning the parameters can improve the accuracy of the classifier.  "
   ]
  },
  {
   "cell_type": "code",
   "execution_count": 11,
   "metadata": {},
   "outputs": [
    {
     "data": {
      "text/plain": [
       "[2869, 3310, 3783, 4286, 4822, 5389, 5987, 6617, 7278, 7971]"
      ]
     },
     "execution_count": 11,
     "metadata": {},
     "output_type": "execute_result"
    }
   ],
   "source": [
    "split_weights = []\n",
    "min_samples_split_values=[]\n",
    "\n",
    "for i in np.linspace(.3, .5, 10):\n",
    "    split_weights.append(i*i)\n",
    "\n",
    "for i in split_weights:\n",
    "    min_samples_split_values.append(int(i*len(X_train)))\n",
    "\n",
    "min_samples_split_values"
   ]
  },
  {
   "cell_type": "code",
   "execution_count": 12,
   "metadata": {},
   "outputs": [
    {
     "data": {
      "text/plain": [
       "[3, 30, 86, 171, 284, 425, 595, 793, 1020, 1275]"
      ]
     },
     "execution_count": 12,
     "metadata": {},
     "output_type": "execute_result"
    }
   ],
   "source": [
    "leaf_weights = []\n",
    "min_samples_leaf_values=[]\n",
    "\n",
    "for i in np.linspace(.01, .2, 10):\n",
    "    leaf_weights.append(i*i)\n",
    "\n",
    "for i in leaf_weights:\n",
    "    min_samples_leaf_values.append(int(i*len(X_train)))\n",
    "\n",
    "min_samples_leaf_values"
   ]
  },
  {
   "cell_type": "markdown",
   "metadata": {},
   "source": [
    "Choosing the parameters linearly did not improve accuracy scores because it only tested splits from chunks of the data without considering that the ideal split is not at some even interval. Therefore, it would be beneficial to split the metric for parameterization exponentially. Also, the number of leaf splits is less than the sample split values because a split will not happen if there are less than a certain number of records specified by min_samples_split in a node, so it would be redundent to test for it."
   ]
  },
  {
   "cell_type": "markdown",
   "metadata": {},
   "source": [
    "For each combination of values we build a new classifier and check the classifier's accuracy on the test data. Then, we plot the test set accuracy to view our results visually. "
   ]
  },
  {
   "cell_type": "code",
   "execution_count": 13,
   "metadata": {},
   "outputs": [],
   "source": [
    "test_results = []\n",
    "sample_split = []\n",
    "leaf_split = []\n",
    "\n",
    "for i in min_samples_split_values:\n",
    "    for j in min_samples_leaf_values:\n",
    "        model = tree.DecisionTreeClassifier(criterion='entropy', min_samples_split=i, min_samples_leaf= j)\n",
    "        model = model.fit(X_train,y_train)\n",
    "        \n",
    "        y_predict_test = model.predict(X_test)\n",
    "\n",
    "        test_results.append(accuracy_score(y_test, y_predict_test))\n",
    "        sample_split.append(i)\n",
    "        leaf_split.append(j)\n",
    "\n",
    "plot_df = {'accuracy': test_results, 'sample_split': sample_split, 'leaf_split': leaf_split}\n",
    "plot_df = pd.DataFrame(plot_df)"
   ]
  },
  {
   "cell_type": "code",
   "execution_count": 14,
   "metadata": {},
   "outputs": [],
   "source": [
    "import seaborn as sns\n",
    "import matplotlib.pyplot as plt"
   ]
  },
  {
   "cell_type": "code",
   "execution_count": 15,
   "metadata": {},
   "outputs": [
    {
     "data": {
      "image/png": "[encoded data removed]",
      "text/plain": [
       "<Figure size 1152x432 with 1 Axes>"
      ]
     },
     "metadata": {},
     "output_type": "display_data"
    }
   ],
   "source": [
    "plt.figure(figsize=(16, 6));\n",
    "sns.set(style=\"whitegrid\");\n",
    "\n",
    "sns.lineplot(x=\"sample_split\", y=\"accuracy\", hue=\"leaf_split\", data=plot_df, palette=sns.color_palette(\"Set2\", 10));\n",
    "plt.title(\"Accuracy Testing\",fontsize=20);"
   ]
  },
  {
   "cell_type": "markdown",
   "metadata": {},
   "source": [
    "The highest accuracy is at 59.5% when the sample_split is about 6,000 samples and the leaf_split is less than 400 samples. This makes sense since as we consider more of the samples at each node, the model cannot learn enough about the data and it underfits."
   ]
  }
 ],
 "metadata": {
  "kernelspec": {
   "display_name": "Python 3",
   "language": "python",
   "name": "python3"
  },
  "language_info": {
   "codemirror_mode": {
    "name": "ipython",
    "version": 3
   },
   "file_extension": ".py",
   "mimetype": "text/x-python",
   "name": "python",
   "nbconvert_exporter": "python",
   "pygments_lexer": "ipython3",
   "version": "3.7.0"
  }
 },
 "nbformat": 4,
 "nbformat_minor": 4
}
